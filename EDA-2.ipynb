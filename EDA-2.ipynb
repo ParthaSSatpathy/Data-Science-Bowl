{
 "cells": [
  {
   "cell_type": "code",
   "execution_count": null,
   "metadata": {
    "collapsed": true
   },
   "outputs": [],
   "source": [
    "import dicom # for reading dicom files\n",
    "import os # for doing directory operations \n",
    "import pandas as pd # for some simple data analysis \n",
    "\n",
    "\n",
    "data_dir = '../input/sample_images/'\n",
    "patients = os.listdir(data_dir)\n",
    "labels_df = pd.read_csv('../input/stage1_labels.csv', index_col=0)\n",
    "\n",
    "labels_df.head()"
   ]
  }
 ],
 "metadata": {
  "anaconda-cloud": {},
  "kernelspec": {
   "display_name": "Python [Root]",
   "language": "python",
   "name": "Python [Root]"
  },
  "language_info": {
   "codemirror_mode": {
    "name": "ipython",
    "version": 3
   },
   "file_extension": ".py",
   "mimetype": "text/x-python",
   "name": "python",
   "nbconvert_exporter": "python",
   "pygments_lexer": "ipython3",
   "version": "3.5.2"
  }
 },
 "nbformat": 4,
 "nbformat_minor": 0
}
